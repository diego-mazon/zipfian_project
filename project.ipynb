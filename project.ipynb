{
 "metadata": {
  "name": "",
  "signature": "sha256:df5c962eadf1ded829e81b7a32cd3279c203b49a20570aa45021280995be9c80"
 },
 "nbformat": 3,
 "nbformat_minor": 0,
 "worksheets": [
  {
   "cells": [
    {
     "cell_type": "code",
     "collapsed": false,
     "input": [
      "import pandas as pd\n",
      "import numpy as np\n",
      "from __future__ import division\n",
      "import seaborn\n",
      "import matplotlib.pyplot as plt\n",
      "%pylab inline"
     ],
     "language": "python",
     "metadata": {},
     "outputs": [
      {
       "output_type": "stream",
       "stream": "stdout",
       "text": [
        "Populating the interactive namespace from numpy and matplotlib\n"
       ]
      }
     ],
     "prompt_number": 2
    },
    {
     "cell_type": "code",
     "collapsed": false,
     "input": [
      "raw = pd.read_csv('HMXPC13_DI_v2_5-14-14.csv')"
     ],
     "language": "python",
     "metadata": {},
     "outputs": [],
     "prompt_number": 3
    },
    {
     "cell_type": "markdown",
     "metadata": {},
     "source": [
      "There are 641138  rows and 20 features"
     ]
    },
    {
     "cell_type": "code",
     "collapsed": false,
     "input": [
      "print \"# of values = \",  raw.grade.unique().shape[0],'\\n', 'values = ', sorted(raw.grade.unique())"
     ],
     "language": "python",
     "metadata": {},
     "outputs": [
      {
       "output_type": "stream",
       "stream": "stdout",
       "text": [
        "# of values =  105 \n",
        "values =  "
       ]
      },
      {
       "output_type": "stream",
       "stream": "stdout",
       "text": [
        "[nan, ' ', '0', '0.0', '0.01', '0.02', '0.03', '0.04', '0.05', '0.06', '0.07', '0.08', '0.09', '0.1', '0.11', '0.12', '0.13', '0.14', '0.15', '0.16', '0.17', '0.18', '0.19', '0.2', '0.21', '0.22', '0.23', '0.24', '0.25', '0.26', '0.27', '0.28', '0.29', '0.3', '0.31', '0.32', '0.33', '0.34', '0.35', '0.36', '0.37', '0.38', '0.39', '0.4', '0.41', '0.42', '0.43', '0.44', '0.45', '0.46', '0.47', '0.48', '0.49', '0.5', '0.51', '0.52', '0.53', '0.54', '0.55', '0.56', '0.57', '0.58', '0.59', '0.6', '0.61', '0.62', '0.63', '0.64', '0.65', '0.66', '0.67', '0.68', '0.69', '0.7', '0.71', '0.72', '0.73', '0.74', '0.75', '0.76', '0.77', '0.78', '0.79', '0.8', '0.81', '0.82', '0.83', '0.84', '0.85', '0.86', '0.87', '0.88', '0.89', '0.9', '0.91', '0.92', '0.93', '0.94', '0.95', '0.96', '0.97', '0.98', '0.99', '1', '1.01']\n"
       ]
      }
     ],
     "prompt_number": 4
    },
    {
     "cell_type": "markdown",
     "metadata": {},
     "source": [
      "There are 105 different grades: the expected 101, nan, blank, 0 (there is 0.0), and 1.01.\n",
      "Questions: 1) Is 0 equivalent to 0.0? (No, probably). 2) Can we consider blank equivalent to nan?"
     ]
    },
    {
     "cell_type": "code",
     "collapsed": false,
     "input": [
      "# don't know how to count nans\n",
      "print '# of blanks = ', raw.grade[raw['grade'] == ' '].count()\n",
      "print '# of 0s = ', raw.grade[raw['grade'] == '0'].count()\n",
      "print '# of 0.0s = ', raw.grade[raw['grade'] == '0.0'].count()\n",
      "print '# of 1.01s = ', raw.grade[raw['grade'] == '1.01'].count()\n",
      "print 'total = ', raw.grade.shape[0]\n"
     ],
     "language": "python",
     "metadata": {},
     "outputs": [
      {
       "output_type": "stream",
       "stream": "stdout",
       "text": [
        "# of blanks =  "
       ]
      },
      {
       "output_type": "stream",
       "stream": "stdout",
       "text": [
        "9028\n",
        "# of 0s =  "
       ]
      },
      {
       "output_type": "stream",
       "stream": "stdout",
       "text": [
        "490868\n",
        "# of 0.0s =  "
       ]
      },
      {
       "output_type": "stream",
       "stream": "stdout",
       "text": [
        "18525\n",
        "# of 1.01s =  "
       ]
      },
      {
       "output_type": "stream",
       "stream": "stdout",
       "text": [
        "6\n",
        "total =  641138\n"
       ]
      }
     ],
     "prompt_number": 5
    },
    {
     "cell_type": "code",
     "collapsed": false,
     "input": [
      "clean = raw"
     ],
     "language": "python",
     "metadata": {},
     "outputs": [],
     "prompt_number": 6
    },
    {
     "cell_type": "code",
     "collapsed": false,
     "input": [
      "#creating numeric column for the grades (they were strings)\n",
      "clean['grade_num'] = raw.grade.convert_objects(convert_numeric=True) "
     ],
     "language": "python",
     "metadata": {},
     "outputs": [],
     "prompt_number": 7
    },
    {
     "cell_type": "code",
     "collapsed": false,
     "input": [
      "# grade has been replaced by grade_num\n",
      "del clean['grade']\n",
      "# contains no info\n",
      "del clean['roles']\n",
      "\n"
     ],
     "language": "python",
     "metadata": {},
     "outputs": [],
     "prompt_number": 8
    },
    {
     "cell_type": "code",
     "collapsed": false,
     "input": [
      "# all registeres(1)\n",
      "del clean['registered']"
     ],
     "language": "python",
     "metadata": {},
     "outputs": [],
     "prompt_number": 9
    },
    {
     "cell_type": "code",
     "collapsed": false,
     "input": [
      "# this course was particular.  See documentation\n",
      "clean = clean[clean.course_id != 'HarvardX/CS50x/2012']\n",
      "clean.shape"
     ],
     "language": "python",
     "metadata": {},
     "outputs": [
      {
       "metadata": {},
       "output_type": "pyout",
       "prompt_number": 10,
       "text": [
        "(471517, 18)"
       ]
      }
     ],
     "prompt_number": 10
    },
    {
     "cell_type": "code",
     "collapsed": false,
     "input": [
      "# inconsistent data\n",
      "clean = clean[clean.incomplete_flag != 1]\n"
     ],
     "language": "python",
     "metadata": {},
     "outputs": [],
     "prompt_number": 11
    },
    {
     "cell_type": "code",
     "collapsed": false,
     "input": [
      "del clean['incomplete_flag']"
     ],
     "language": "python",
     "metadata": {},
     "outputs": [],
     "prompt_number": 12
    },
    {
     "cell_type": "code",
     "collapsed": false,
     "input": [
      "# mean value\n",
      "clean.grade_num.mean()"
     ],
     "language": "python",
     "metadata": {},
     "outputs": [
      {
       "metadata": {},
       "output_type": "pyout",
       "prompt_number": 13,
       "text": [
        "0.047661308359319379"
       ]
      }
     ],
     "prompt_number": 13
    },
    {
     "cell_type": "code",
     "collapsed": false,
     "input": [
      "clean.grade_num.hist(bins=100);"
     ],
     "language": "python",
     "metadata": {},
     "outputs": [
      {
       "metadata": {},
       "output_type": "display_data",
       "png": "[encoded data removed]",
       "text": [
        "<matplotlib.figure.Figure at 0x112a59710>"
       ]
      }
     ],
     "prompt_number": 14
    },
    {
     "cell_type": "markdown",
     "metadata": {},
     "source": [
      "Most (overwhelming majority) grades are zero"
     ]
    },
    {
     "cell_type": "code",
     "collapsed": false,
     "input": [
      "print clean.start_time_DI.describe()\n",
      "\n",
      "print clean.start_time_DI.shape[0]\n",
      "\n"
     ],
     "language": "python",
     "metadata": {},
     "outputs": [
      {
       "output_type": "stream",
       "stream": "stdout",
       "text": [
        "count         440218\n",
        "unique           412\n",
        "top       2012-08-17\n",
        "freq            5930\n",
        "dtype: object\n",
        "440218\n"
       ]
      }
     ],
     "prompt_number": 15
    },
    {
     "cell_type": "code",
     "collapsed": false,
     "input": [
      "print clean.nevents.shape\n",
      "print clean[clean.nevents != 0].shape"
     ],
     "language": "python",
     "metadata": {},
     "outputs": [
      {
       "output_type": "stream",
       "stream": "stdout",
       "text": [
        "(440218,)\n",
        "(440218, 17)"
       ]
      },
      {
       "output_type": "stream",
       "stream": "stdout",
       "text": [
        "\n"
       ]
      }
     ],
     "prompt_number": 16
    },
    {
     "cell_type": "code",
     "collapsed": false,
     "input": [
      "a = pd.get_dummies(clean.final_cc_cname_DI)"
     ],
     "language": "python",
     "metadata": {},
     "outputs": [],
     "prompt_number": 17
    },
    {
     "cell_type": "code",
     "collapsed": false,
     "input": [
      "countries = list(a.columns)"
     ],
     "language": "python",
     "metadata": {},
     "outputs": [],
     "prompt_number": 18
    },
    {
     "cell_type": "code",
     "collapsed": false,
     "input": [
      "clean.shape"
     ],
     "language": "python",
     "metadata": {},
     "outputs": [
      {
       "metadata": {},
       "output_type": "pyout",
       "prompt_number": 19,
       "text": [
        "(440218, 17)"
       ]
      }
     ],
     "prompt_number": 19
    },
    {
     "cell_type": "code",
     "collapsed": false,
     "input": [
      "clean [countries] = a"
     ],
     "language": "python",
     "metadata": {},
     "outputs": [],
     "prompt_number": 20
    },
    {
     "cell_type": "code",
     "collapsed": false,
     "input": [
      "clean_bin = clean"
     ],
     "language": "python",
     "metadata": {},
     "outputs": [],
     "prompt_number": 21
    },
    {
     "cell_type": "code",
     "collapsed": false,
     "input": [
      "del clean_bin['final_cc_cname_DI']"
     ],
     "language": "python",
     "metadata": {},
     "outputs": [],
     "prompt_number": 22
    },
    {
     "cell_type": "code",
     "collapsed": false,
     "input": [
      "del clean_bin['Unknown/Other']"
     ],
     "language": "python",
     "metadata": {},
     "outputs": [],
     "prompt_number": 23
    },
    {
     "cell_type": "code",
     "collapsed": false,
     "input": [
      "a = pd.get_dummies(clean.gender)"
     ],
     "language": "python",
     "metadata": {},
     "outputs": [],
     "prompt_number": 24
    },
    {
     "cell_type": "code",
     "collapsed": false,
     "input": [
      "clean_bin [list(a.columns)] = a "
     ],
     "language": "python",
     "metadata": {},
     "outputs": [],
     "prompt_number": 25
    },
    {
     "cell_type": "code",
     "collapsed": false,
     "input": [
      "clean_bin.head()"
     ],
     "language": "python",
     "metadata": {},
     "outputs": [
      {
       "html": [
        "<div style=\"max-height:1000px;max-width:1500px;overflow:auto;\">\n",
        "<table border=\"1\" class=\"dataframe\">\n",
        "  <thead>\n",
        "    <tr style=\"text-align: right;\">\n",
        "      <th></th>\n",
        "      <th>course_id</th>\n",
        "      <th>userid_DI</th>\n",
        "      <th>viewed</th>\n",
        "      <th>explored</th>\n",
        "      <th>certified</th>\n",
        "      <th>LoE_DI</th>\n",
        "      <th>YoB</th>\n",
        "      <th>gender</th>\n",
        "      <th>start_time_DI</th>\n",
        "      <th>last_event_DI</th>\n",
        "      <th>...</th>\n",
        "      <th>Philippines</th>\n",
        "      <th>Poland</th>\n",
        "      <th>Portugal</th>\n",
        "      <th>Russian Federation</th>\n",
        "      <th>Spain</th>\n",
        "      <th>Ukraine</th>\n",
        "      <th>United Kingdom</th>\n",
        "      <th>United States</th>\n",
        "      <th>f</th>\n",
        "      <th>m</th>\n",
        "    </tr>\n",
        "  </thead>\n",
        "  <tbody>\n",
        "    <tr>\n",
        "      <th>5 </th>\n",
        "      <td>  HarvardX/PH207x/2012_Fall</td>\n",
        "      <td> MHxPC130275857</td>\n",
        "      <td> 1</td>\n",
        "      <td> 1</td>\n",
        "      <td> 0</td>\n",
        "      <td> NaN</td>\n",
        "      <td>NaN</td>\n",
        "      <td> NaN</td>\n",
        "      <td> 2012-09-17</td>\n",
        "      <td> 2013-05-23</td>\n",
        "      <td>...</td>\n",
        "      <td> 0</td>\n",
        "      <td> 0</td>\n",
        "      <td> 0</td>\n",
        "      <td> 0</td>\n",
        "      <td> 0</td>\n",
        "      <td> 0</td>\n",
        "      <td> 0</td>\n",
        "      <td> 1</td>\n",
        "      <td> 0</td>\n",
        "      <td> 0</td>\n",
        "    </tr>\n",
        "    <tr>\n",
        "      <th>7 </th>\n",
        "      <td> HarvardX/CB22x/2013_Spring</td>\n",
        "      <td> MHxPC130539455</td>\n",
        "      <td> 1</td>\n",
        "      <td> 0</td>\n",
        "      <td> 0</td>\n",
        "      <td> NaN</td>\n",
        "      <td>NaN</td>\n",
        "      <td> NaN</td>\n",
        "      <td> 2013-01-01</td>\n",
        "      <td> 2013-05-14</td>\n",
        "      <td>...</td>\n",
        "      <td> 0</td>\n",
        "      <td> 0</td>\n",
        "      <td> 0</td>\n",
        "      <td> 0</td>\n",
        "      <td> 0</td>\n",
        "      <td> 0</td>\n",
        "      <td> 0</td>\n",
        "      <td> 0</td>\n",
        "      <td> 0</td>\n",
        "      <td> 0</td>\n",
        "    </tr>\n",
        "    <tr>\n",
        "      <th>8 </th>\n",
        "      <td> HarvardX/CB22x/2013_Spring</td>\n",
        "      <td> MHxPC130088379</td>\n",
        "      <td> 1</td>\n",
        "      <td> 0</td>\n",
        "      <td> 0</td>\n",
        "      <td> NaN</td>\n",
        "      <td>NaN</td>\n",
        "      <td> NaN</td>\n",
        "      <td> 2013-02-18</td>\n",
        "      <td> 2013-03-17</td>\n",
        "      <td>...</td>\n",
        "      <td> 0</td>\n",
        "      <td> 0</td>\n",
        "      <td> 0</td>\n",
        "      <td> 0</td>\n",
        "      <td> 0</td>\n",
        "      <td> 0</td>\n",
        "      <td> 0</td>\n",
        "      <td> 1</td>\n",
        "      <td> 0</td>\n",
        "      <td> 0</td>\n",
        "    </tr>\n",
        "    <tr>\n",
        "      <th>10</th>\n",
        "      <td> HarvardX/ER22x/2013_Spring</td>\n",
        "      <td> MHxPC130088379</td>\n",
        "      <td> 1</td>\n",
        "      <td> 0</td>\n",
        "      <td> 0</td>\n",
        "      <td> NaN</td>\n",
        "      <td>NaN</td>\n",
        "      <td> NaN</td>\n",
        "      <td> 2013-02-23</td>\n",
        "      <td> 2013-06-14</td>\n",
        "      <td>...</td>\n",
        "      <td> 0</td>\n",
        "      <td> 0</td>\n",
        "      <td> 0</td>\n",
        "      <td> 0</td>\n",
        "      <td> 0</td>\n",
        "      <td> 0</td>\n",
        "      <td> 0</td>\n",
        "      <td> 1</td>\n",
        "      <td> 0</td>\n",
        "      <td> 0</td>\n",
        "    </tr>\n",
        "    <tr>\n",
        "      <th>11</th>\n",
        "      <td> HarvardX/ER22x/2013_Spring</td>\n",
        "      <td> MHxPC130198098</td>\n",
        "      <td> 1</td>\n",
        "      <td> 0</td>\n",
        "      <td> 0</td>\n",
        "      <td> NaN</td>\n",
        "      <td>NaN</td>\n",
        "      <td> NaN</td>\n",
        "      <td> 2013-06-17</td>\n",
        "      <td> 2013-06-17</td>\n",
        "      <td>...</td>\n",
        "      <td> 0</td>\n",
        "      <td> 0</td>\n",
        "      <td> 0</td>\n",
        "      <td> 0</td>\n",
        "      <td> 0</td>\n",
        "      <td> 0</td>\n",
        "      <td> 0</td>\n",
        "      <td> 1</td>\n",
        "      <td> 0</td>\n",
        "      <td> 0</td>\n",
        "    </tr>\n",
        "  </tbody>\n",
        "</table>\n",
        "<p>5 rows \u00d7 51 columns</p>\n",
        "</div>"
       ],
       "metadata": {},
       "output_type": "pyout",
       "prompt_number": 26,
       "text": [
        "                     course_id       userid_DI  viewed  explored  certified  \\\n",
        "5    HarvardX/PH207x/2012_Fall  MHxPC130275857       1         1          0   \n",
        "7   HarvardX/CB22x/2013_Spring  MHxPC130539455       1         0          0   \n",
        "8   HarvardX/CB22x/2013_Spring  MHxPC130088379       1         0          0   \n",
        "10  HarvardX/ER22x/2013_Spring  MHxPC130088379       1         0          0   \n",
        "11  HarvardX/ER22x/2013_Spring  MHxPC130198098       1         0          0   \n",
        "\n",
        "   LoE_DI  YoB gender start_time_DI last_event_DI      ...       Philippines  \\\n",
        "5     NaN  NaN    NaN    2012-09-17    2013-05-23      ...                 0   \n",
        "7     NaN  NaN    NaN    2013-01-01    2013-05-14      ...                 0   \n",
        "8     NaN  NaN    NaN    2013-02-18    2013-03-17      ...                 0   \n",
        "10    NaN  NaN    NaN    2013-02-23    2013-06-14      ...                 0   \n",
        "11    NaN  NaN    NaN    2013-06-17    2013-06-17      ...                 0   \n",
        "\n",
        "    Poland  Portugal  Russian Federation  Spain  Ukraine  United Kingdom  \\\n",
        "5        0         0                   0      0        0               0   \n",
        "7        0         0                   0      0        0               0   \n",
        "8        0         0                   0      0        0               0   \n",
        "10       0         0                   0      0        0               0   \n",
        "11       0         0                   0      0        0               0   \n",
        "\n",
        "    United States  f  m  \n",
        "5               1  0  0  \n",
        "7               0  0  0  \n",
        "8               1  0  0  \n",
        "10              1  0  0  \n",
        "11              1  0  0  \n",
        "\n",
        "[5 rows x 51 columns]"
       ]
      }
     ],
     "prompt_number": 26
    },
    {
     "cell_type": "code",
     "collapsed": false,
     "input": [
      "del clean_bin['gender']"
     ],
     "language": "python",
     "metadata": {},
     "outputs": [],
     "prompt_number": 27
    },
    {
     "cell_type": "code",
     "collapsed": false,
     "input": [
      "list(clean_bin.LoE_DI.unique())[1:]"
     ],
     "language": "python",
     "metadata": {},
     "outputs": [
      {
       "metadata": {},
       "output_type": "pyout",
       "prompt_number": 28,
       "text": [
        "[\"Bachelor's\", 'Secondary', \"Master's\", 'Doctorate', 'Less than Secondary']"
       ]
      }
     ],
     "prompt_number": 28
    },
    {
     "cell_type": "code",
     "collapsed": false,
     "input": [
      "clean_bin = clean_bin.replace(list(clean_bin.LoE_DI.unique())[1:], [2, 1, 3, 4, 0])"
     ],
     "language": "python",
     "metadata": {},
     "outputs": [],
     "prompt_number": 29
    },
    {
     "cell_type": "code",
     "collapsed": false,
     "input": [
      "clean_bin.columns"
     ],
     "language": "python",
     "metadata": {},
     "outputs": [
      {
       "metadata": {},
       "output_type": "pyout",
       "prompt_number": 30,
       "text": [
        "Index([u'course_id', u'userid_DI', u'viewed', u'explored', u'certified', u'LoE_DI', u'YoB', u'start_time_DI', u'last_event_DI', u'nevents', u'ndays_act', u'nplay_video', u'nchapters', u'nforum_posts', u'grade_num', u'Australia', u'Bangladesh', u'Brazil', u'Canada', u'China', u'Colombia', u'Egypt', u'France', u'Germany', u'Greece', u'India', u'Indonesia', u'Japan', u'Mexico', u'Morocco', u'Nigeria', u'Other Africa', u'Other East Asia', u'Other Europe', u'Other Middle East/Central Asia', u'Other North & Central Amer., Caribbean', u'Other Oceania', u'Other South America', u'Other South Asia', u'Pakistan', u'Philippines', u'Poland', u'Portugal', u'Russian Federation', u'Spain', u'Ukraine', u'United Kingdom', u'United States', u'f', u'm'], dtype='object')"
       ]
      }
     ],
     "prompt_number": 30
    },
    {
     "cell_type": "code",
     "collapsed": false,
     "input": [
      "X = clean_bin[[u'LoE_DI', u'YoB', u'Australia', u'Bangladesh', u'Brazil', u'Canada', u'China', u'Colombia', u'Egypt', u'France', u'Germany', u'Greece', u'India', u'Indonesia', u'Japan', u'Mexico', u'Morocco', u'Nigeria', u'Other Africa', u'Other East Asia', u'Other Europe', u'Other Middle East/Central Asia', u'Other North & Central Amer., Caribbean', u'Other Oceania', u'Other South America', u'Other South Asia', u'Pakistan', u'Philippines', u'Poland', u'Portugal', u'Russian Federation', u'Spain', u'Ukraine', u'United Kingdom', u'United States', u'f', u'm']].values"
     ],
     "language": "python",
     "metadata": {},
     "outputs": [],
     "prompt_number": 31
    },
    {
     "cell_type": "code",
     "collapsed": false,
     "input": [
      "clean_bin['LoE_DI'] = clean_bin.LoE_DI.fillna(clean_bin.LoE_DI.mean())"
     ],
     "language": "python",
     "metadata": {},
     "outputs": [],
     "prompt_number": 32
    },
    {
     "cell_type": "code",
     "collapsed": false,
     "input": [
      "clean_bin['YoB'] = clean_bin.YoB.fillna(clean_bin.YoB.mean())"
     ],
     "language": "python",
     "metadata": {},
     "outputs": [],
     "prompt_number": 33
    },
    {
     "cell_type": "code",
     "collapsed": false,
     "input": [
      "features=[u'LoE_DI', u'YoB', u'Australia', u'Bangladesh', u'Brazil', u'Canada', u'China', u'Colombia', u'Egypt', u'France', u'Germany', u'Greece', u'India', u'Indonesia', u'Japan', u'Mexico', u'Morocco', u'Nigeria', u'Other Africa', u'Other East Asia', u'Other Europe', u'Other Middle East/Central Asia', u'Other North & Central Amer., Caribbean', u'Other Oceania', u'Other South America', u'Other South Asia', u'Pakistan', u'Philippines', u'Poland', u'Portugal', u'Russian Federation', u'Spain', u'Ukraine', u'United Kingdom', u'United States', u'f', u'm']\n",
      "X = clean_bin[features]\n",
      "y = clean_bin['certified']"
     ],
     "language": "python",
     "metadata": {},
     "outputs": [],
     "prompt_number": 90
    },
    {
     "cell_type": "code",
     "collapsed": false,
     "input": [
      "from sklearn.ensemble import RandomForestClassifier as RF"
     ],
     "language": "python",
     "metadata": {},
     "outputs": [],
     "prompt_number": 35
    },
    {
     "cell_type": "code",
     "collapsed": false,
     "input": [
      "rf = RF()"
     ],
     "language": "python",
     "metadata": {},
     "outputs": [],
     "prompt_number": 91
    },
    {
     "cell_type": "code",
     "collapsed": false,
     "input": [
      "rf.fit(X,y)"
     ],
     "language": "python",
     "metadata": {},
     "outputs": [
      {
       "metadata": {},
       "output_type": "pyout",
       "prompt_number": 92,
       "text": [
        "RandomForestClassifier(bootstrap=True, compute_importances=None,\n",
        "            criterion='gini', max_depth=None, max_features='auto',\n",
        "            min_density=None, min_samples_leaf=1, min_samples_split=2,\n",
        "            n_estimators=10, n_jobs=1, oob_score=False, random_state=None,\n",
        "            verbose=0)"
       ]
      }
     ],
     "prompt_number": 92
    },
    {
     "cell_type": "code",
     "collapsed": false,
     "input": [
      "rf.feature_importances_\n",
      "feature_import = rf.feature_importances_.argsort()[::-1]\n",
      "getVar(features, feature_import)"
     ],
     "language": "python",
     "metadata": {},
     "outputs": [
      {
       "metadata": {},
       "output_type": "pyout",
       "prompt_number": 96,
       "text": [
        "[u'YoB',\n",
        " u'LoE_DI',\n",
        " u'Spain',\n",
        " u'Other Europe',\n",
        " u'Poland',\n",
        " u'Russian Federation',\n",
        " u'India',\n",
        " u'm',\n",
        " u'Germany',\n",
        " u'f',\n",
        " u'United States',\n",
        " u'United Kingdom',\n",
        " u'Greece',\n",
        " u'Other South Asia',\n",
        " u'Other South America',\n",
        " u'Ukraine',\n",
        " u'Brazil',\n",
        " u'Portugal',\n",
        " u'Other Africa',\n",
        " u'France',\n",
        " u'Australia',\n",
        " u'Canada',\n",
        " u'Other East Asia',\n",
        " u'Colombia',\n",
        " u'China',\n",
        " u'Other North & Central Amer., Caribbean',\n",
        " u'Other Middle East/Central Asia',\n",
        " u'Egypt',\n",
        " u'Pakistan',\n",
        " u'Indonesia',\n",
        " u'Mexico',\n",
        " u'Nigeria',\n",
        " u'Philippines',\n",
        " u'Morocco',\n",
        " u'Bangladesh',\n",
        " u'Japan',\n",
        " u'Other Oceania']"
       ]
      }
     ],
     "prompt_number": 96
    },
    {
     "cell_type": "markdown",
     "metadata": {},
     "source": [
      "Degree('LoE_DI') and age (YoB) are the most relevant variables among those that are known before starting the course."
     ]
    },
    {
     "cell_type": "code",
     "collapsed": false,
     "input": [
      "clean_bin.YoB.hist()"
     ],
     "language": "python",
     "metadata": {},
     "outputs": [
      {
       "metadata": {},
       "output_type": "pyout",
       "prompt_number": 96,
       "text": [
        "<matplotlib.axes._subplots.AxesSubplot at 0x10b47c3d0>"
       ]
      },
      {
       "metadata": {},
       "output_type": "display_data",
       "png": "[encoded data removed]",
       "text": [
        "<matplotlib.figure.Figure at 0x10b47c090>"
       ]
      }
     ],
     "prompt_number": 96
    },
    {
     "cell_type": "code",
     "collapsed": false,
     "input": [
      "old = clean_bin['YoB'] <= 1980\n",
      "c1 = clean_bin['YoB'] <= 1990\n",
      "c2 = clean_bin['YoB'] > 1980\n",
      "young = clean_bin['YoB'] >1990\n",
      "got_cert = clean_bin['certified'] == 1"
     ],
     "language": "python",
     "metadata": {},
     "outputs": [],
     "prompt_number": 37
    },
    {
     "cell_type": "code",
     "collapsed": false,
     "input": [
      "clean_bin[old].shape[0] + clean_bin[young].shape[0] + clean_bin[c1 & c2].shape[0]"
     ],
     "language": "python",
     "metadata": {},
     "outputs": [
      {
       "metadata": {},
       "output_type": "pyout",
       "prompt_number": 38,
       "text": [
        "440218"
       ]
      }
     ],
     "prompt_number": 38
    },
    {
     "cell_type": "code",
     "collapsed": false,
     "input": [
      "clean_bin.shape"
     ],
     "language": "python",
     "metadata": {},
     "outputs": [
      {
       "metadata": {},
       "output_type": "pyout",
       "prompt_number": 39,
       "text": [
        "(440218, 50)"
       ]
      }
     ],
     "prompt_number": 39
    },
    {
     "cell_type": "code",
     "collapsed": false,
     "input": [
      "print 'fraction of old people = ', clean_bin[old].shape[0]/clean_bin.shape[0]\n",
      "print 'fraction of adult people = ', clean_bin[c1 & c2].shape[0]/clean_bin.shape[0]\n",
      "print 'fraction of young people = ', clean_bin[young].shape[0]/clean_bin.shape[0]\n",
      "print 'fraction of people with certification', clean_bin[got_cert].shape[0]/clean_bin.shape[0]\n"
     ],
     "language": "python",
     "metadata": {},
     "outputs": [
      {
       "output_type": "stream",
       "stream": "stdout",
       "text": [
        "fraction of old people =  0.169834036773\n",
        "fraction of adult people =  "
       ]
      },
      {
       "output_type": "stream",
       "stream": "stdout",
       "text": [
        "0.576505276931\n",
        "fraction of young people =  "
       ]
      },
      {
       "output_type": "stream",
       "stream": "stdout",
       "text": [
        "0.253660686296\n",
        "fraction of people with certification 0.0372292818558\n"
       ]
      }
     ],
     "prompt_number": 40
    },
    {
     "cell_type": "code",
     "collapsed": false,
     "input": [
      "print 'fraction of old people (with cert)', clean_bin[old & got_cert].shape[0]/clean_bin[got_cert].shape[0]\n",
      "print 'fraction of adult people (with cert)', clean_bin[c1 & c2 & got_cert].shape[0]/clean_bin[got_cert].shape[0]\n",
      "print 'fraction of young people (with cert)', clean_bin[young & got_cert].shape[0]/clean_bin[got_cert].shape[0]\n"
     ],
     "language": "python",
     "metadata": {},
     "outputs": [
      {
       "output_type": "stream",
       "stream": "stdout",
       "text": [
        "fraction of old people (with cert) 0.142839709561\n",
        "fraction of adult people (with cert) 0.624931356398\n",
        "fraction of young people (with cert) "
       ]
      },
      {
       "output_type": "stream",
       "stream": "stdout",
       "text": [
        "0.232228934041\n"
       ]
      }
     ],
     "prompt_number": 41
    },
    {
     "cell_type": "markdown",
     "metadata": {},
     "source": [
      "Adults (1980-1990) get more degrees"
     ]
    },
    {
     "cell_type": "code",
     "collapsed": false,
     "input": [
      "spanish = clean_bin['Spain'] == 1\n",
      "americans = clean_bin['United States'] == 1"
     ],
     "language": "python",
     "metadata": {},
     "outputs": [],
     "prompt_number": 42
    },
    {
     "cell_type": "code",
     "collapsed": false,
     "input": [
      "print \"fraction Spanish people = \", clean_bin[spanish].shape[0]/clean_bin.shape[0], ';', \"among those who got a certificate = \", clean_bin[spanish & got_cert].shape[0]/clean_bin[got_cert].shape[0]"
     ],
     "language": "python",
     "metadata": {},
     "outputs": [
      {
       "output_type": "stream",
       "stream": "stdout",
       "text": [
        "fraction Spanish people =  0.0178366173123 ; among those who got a certificate =  0.0483861126365\n"
       ]
      }
     ],
     "prompt_number": 43
    },
    {
     "cell_type": "code",
     "collapsed": false,
     "input": [
      "print \"fraction Americans people = \", clean_bin[americans].shape[0]/clean_bin.shape[0], ';', \"among those who got a certificate = \", clean_bin[americans & got_cert].shape[0]/clean_bin[got_cert].shape[0]"
     ],
     "language": "python",
     "metadata": {},
     "outputs": [
      {
       "output_type": "stream",
       "stream": "stdout",
       "text": [
        "fraction Americans people =  "
       ]
      },
      {
       "output_type": "stream",
       "stream": "stdout",
       "text": [
        "0.293772630833 ; among those who got a certificate =  0.248093233266\n"
       ]
      }
     ],
     "prompt_number": 44
    },
    {
     "cell_type": "code",
     "collapsed": false,
     "input": [
      "phds = clean_bin['LoE_DI'] == 4\n",
      "masters = clean_bin['LoE_DI'] == 3\n",
      "no_degree = clean_bin['LoE_DI'] == 0"
     ],
     "language": "python",
     "metadata": {},
     "outputs": [],
     "prompt_number": 45
    },
    {
     "cell_type": "code",
     "collapsed": false,
     "input": [
      "print \"fraction phds = \", clean_bin[phds].shape[0]/clean_bin.shape[0], ';', \"among those who got a certificate = \", clean_bin[phds & got_cert].shape[0]/clean_bin[got_cert].shape[0]"
     ],
     "language": "python",
     "metadata": {},
     "outputs": [
      {
       "output_type": "stream",
       "stream": "stdout",
       "text": [
        "fraction phds =  0.0238336460572 ; among those who got a certificate =  0.0247116968699\n"
       ]
      }
     ],
     "prompt_number": 46
    },
    {
     "cell_type": "code",
     "collapsed": false,
     "input": [
      "print \"fraction masters = \", clean_bin[masters].shape[0]/clean_bin.shape[0], ';', \"among those who got a certificate = \", clean_bin[masters & got_cert].shape[0]/clean_bin[got_cert].shape[0]"
     ],
     "language": "python",
     "metadata": {},
     "outputs": [
      {
       "output_type": "stream",
       "stream": "stdout",
       "text": [
        "fraction masters =  0.197690689613 ; among those who got a certificate =  "
       ]
      },
      {
       "output_type": "stream",
       "stream": "stdout",
       "text": [
        "0.242845811215\n"
       ]
      }
     ],
     "prompt_number": 47
    },
    {
     "cell_type": "code",
     "collapsed": false,
     "input": [
      "print \"fraction under_secondary = \", clean_bin[no_degree].shape[0]/clean_bin.shape[0], ';', \"among those who got a certificate = \", clean_bin[no_degree & got_cert].shape[0]/clean_bin[got_cert].shape[0]"
     ],
     "language": "python",
     "metadata": {},
     "outputs": [
      {
       "output_type": "stream",
       "stream": "stdout",
       "text": [
        "fraction under_secondary =  0.0187066408007 ; among those who got a certificate =  0.0205625724571\n"
       ]
      }
     ],
     "prompt_number": 48
    },
    {
     "cell_type": "markdown",
     "metadata": {},
     "source": [
      "We should stratify by course: under_secondary or Spanish people users could attend easier courses"
     ]
    },
    {
     "cell_type": "code",
     "collapsed": false,
     "input": [
      "clean_bin.columns"
     ],
     "language": "python",
     "metadata": {},
     "outputs": [
      {
       "metadata": {},
       "output_type": "pyout",
       "prompt_number": 49,
       "text": [
        "Index([u'course_id', u'userid_DI', u'viewed', u'explored', u'certified', u'LoE_DI', u'YoB', u'start_time_DI', u'last_event_DI', u'nevents', u'ndays_act', u'nplay_video', u'nchapters', u'nforum_posts', u'grade_num', u'Australia', u'Bangladesh', u'Brazil', u'Canada', u'China', u'Colombia', u'Egypt', u'France', u'Germany', u'Greece', u'India', u'Indonesia', u'Japan', u'Mexico', u'Morocco', u'Nigeria', u'Other Africa', u'Other East Asia', u'Other Europe', u'Other Middle East/Central Asia', u'Other North & Central Amer., Caribbean', u'Other Oceania', u'Other South America', u'Other South Asia', u'Pakistan', u'Philippines', u'Poland', u'Portugal', u'Russian Federation', u'Spain', u'Ukraine', u'United Kingdom', u'United States', u'f', u'm'], dtype='object')"
       ]
      }
     ],
     "prompt_number": 49
    },
    {
     "cell_type": "code",
     "collapsed": false,
     "input": [
      "X_b = clean_bin[[ u'viewed', u'explored', u'LoE_DI', u'YoB', u'nevents', u'ndays_act', u'nplay_video', u'nchapters', u'nforum_posts', u'grade_num', u'Australia', u'Bangladesh', u'Brazil', u'Canada', u'China', u'Colombia', u'Egypt', u'France', u'Germany', u'Greece', u'India', u'Indonesia', u'Japan', u'Mexico', u'Morocco', u'Nigeria', u'Other Africa', u'Other East Asia', u'Other Europe', u'Other Middle East/Central Asia', u'Other North & Central Amer., Caribbean', u'Other Oceania', u'Other South America', u'Other South Asia', u'Pakistan', u'Philippines', u'Poland', u'Portugal', u'Russian Federation', u'Spain', u'Ukraine', u'United Kingdom', u'United States', u'f', u'm']].values"
     ],
     "language": "python",
     "metadata": {},
     "outputs": [],
     "prompt_number": 50
    },
    {
     "cell_type": "code",
     "collapsed": false,
     "input": [
      "clean_bin['viewed'] = clean_bin.viewed.fillna(clean_bin.viewed.mean())\n",
      "clean_bin['explored'] = clean_bin.explored.fillna(clean_bin.explored.mean())\n",
      "clean_bin['nevents'] = clean_bin.nevents.fillna(clean_bin.nevents.mean())\n",
      "clean_bin['ndays_act'] = clean_bin.ndays_act.fillna(clean_bin.ndays_act.mean())\n",
      "clean_bin['nplay_video'] = clean_bin.nplay_video.fillna(clean_bin.nplay_video.mean())\n",
      "clean_bin['nchapters'] = clean_bin.nchapters.fillna(clean_bin.nchapters.mean())\n",
      "clean_bin['nforum_posts'] = clean_bin.nforum_posts.fillna(clean_bin.nforum_posts.mean())\n",
      "clean_bin['grade_num'] = clean_bin.grade_num.fillna(clean_bin.grade_num.mean())\n"
     ],
     "language": "python",
     "metadata": {},
     "outputs": [],
     "prompt_number": 52
    },
    {
     "cell_type": "code",
     "collapsed": false,
     "input": [
      "featuresb = [u'viewed', u'explored', u'LoE_DI', u'YoB', u'nevents', u'ndays_act', u'nplay_video', u'nchapters', u'nforum_posts', u'grade_num', u'Australia', u'Bangladesh', u'Brazil', u'Canada', u'China', u'Colombia', u'Egypt', u'France', u'Germany', u'Greece', u'India', u'Indonesia', u'Japan', u'Mexico', u'Morocco', u'Nigeria', u'Other Africa', u'Other East Asia', u'Other Europe', u'Other Middle East/Central Asia', u'Other North & Central Amer., Caribbean', u'Other Oceania', u'Other South America', u'Other South Asia', u'Pakistan', u'Philippines', u'Poland', u'Portugal', u'Russian Federation', u'Spain', u'Ukraine', u'United Kingdom', u'United States', u'f', u'm']\n",
      "Xb = clean_bin[featuresb].values"
     ],
     "language": "python",
     "metadata": {},
     "outputs": [],
     "prompt_number": 82
    },
    {
     "cell_type": "code",
     "collapsed": false,
     "input": [
      "rfb = RF()"
     ],
     "language": "python",
     "metadata": {},
     "outputs": [],
     "prompt_number": 83
    },
    {
     "cell_type": "code",
     "collapsed": false,
     "input": [
      "rfb.fit(Xb,y)"
     ],
     "language": "python",
     "metadata": {},
     "outputs": [
      {
       "metadata": {},
       "output_type": "pyout",
       "prompt_number": 84,
       "text": [
        "RandomForestClassifier(bootstrap=True, compute_importances=None,\n",
        "            criterion='gini', max_depth=None, max_features='auto',\n",
        "            min_density=None, min_samples_leaf=1, min_samples_split=2,\n",
        "            n_estimators=10, n_jobs=1, oob_score=False, random_state=None,\n",
        "            verbose=0)"
       ]
      }
     ],
     "prompt_number": 84
    },
    {
     "cell_type": "code",
     "collapsed": false,
     "input": [
      "rfb.feature_importances_"
     ],
     "language": "python",
     "metadata": {},
     "outputs": [
      {
       "metadata": {},
       "output_type": "pyout",
       "prompt_number": 85,
       "text": [
        "array([  2.10002642e-03,   1.58093846e-01,   3.32968274e-03,\n",
        "         7.37466868e-03,   1.35644684e-01,   1.33598902e-01,\n",
        "         5.67012955e-02,   6.75743994e-02,   3.25185108e-03,\n",
        "         4.18790523e-01,   2.20884226e-04,   4.22789479e-05,\n",
        "         3.04639673e-04,   3.70654150e-04,   1.98200579e-04,\n",
        "         2.28823756e-04,   2.56462931e-04,   1.05421594e-04,\n",
        "         3.04662421e-04,   2.66382149e-04,   1.23123189e-03,\n",
        "         2.43965618e-04,   6.96010825e-05,   1.18087701e-04,\n",
        "         6.85467797e-05,   5.01871007e-04,   8.81395918e-04,\n",
        "         1.07012815e-04,   5.38282381e-04,   4.26548691e-04,\n",
        "         2.15850449e-04,   5.58680799e-06,   2.96171442e-04,\n",
        "         4.45622315e-04,   1.72247045e-04,   1.40506495e-04,\n",
        "         2.56130530e-04,   1.27622084e-04,   4.33082889e-04,\n",
        "         6.01728624e-04,   2.20757420e-04,   4.03303206e-04,\n",
        "         1.25613294e-03,   1.34327019e-03,   1.13715490e-03])"
       ]
      }
     ],
     "prompt_number": 85
    },
    {
     "cell_type": "code",
     "collapsed": false,
     "input": [
      "feature_importb = rfb.feature_importances_.argsort()[::-1]"
     ],
     "language": "python",
     "metadata": {},
     "outputs": [],
     "prompt_number": 97
    },
    {
     "cell_type": "code",
     "collapsed": false,
     "input": [
      "getVar = lambda searchList, ind: [searchList[i] for i in ind]\n",
      "getVar(featuresb, feature_importb)"
     ],
     "language": "python",
     "metadata": {},
     "outputs": [
      {
       "metadata": {},
       "output_type": "pyout",
       "prompt_number": 98,
       "text": [
        "[u'grade_num',\n",
        " u'explored',\n",
        " u'nevents',\n",
        " u'ndays_act',\n",
        " u'nchapters',\n",
        " u'nplay_video',\n",
        " u'YoB',\n",
        " u'LoE_DI',\n",
        " u'nforum_posts',\n",
        " u'viewed',\n",
        " u'f',\n",
        " u'United States',\n",
        " u'India',\n",
        " u'm',\n",
        " u'Other Africa',\n",
        " u'Spain',\n",
        " u'Other Europe',\n",
        " u'Nigeria',\n",
        " u'Other South Asia',\n",
        " u'Russian Federation',\n",
        " u'Other Middle East/Central Asia',\n",
        " u'United Kingdom',\n",
        " u'Canada',\n",
        " u'Germany',\n",
        " u'Brazil',\n",
        " u'Other South America',\n",
        " u'Greece',\n",
        " u'Egypt',\n",
        " u'Poland',\n",
        " u'Indonesia',\n",
        " u'Colombia',\n",
        " u'Australia',\n",
        " u'Ukraine',\n",
        " u'Other North & Central Amer., Caribbean',\n",
        " u'China',\n",
        " u'Pakistan',\n",
        " u'Philippines',\n",
        " u'Portugal',\n",
        " u'Mexico',\n",
        " u'Other East Asia',\n",
        " u'France',\n",
        " u'Japan',\n",
        " u'Morocco',\n",
        " u'Bangladesh',\n",
        " u'Other Oceania']"
       ]
      }
     ],
     "prompt_number": 98
    },
    {
     "cell_type": "code",
     "collapsed": false,
     "input": [],
     "language": "python",
     "metadata": {},
     "outputs": [
      {
       "metadata": {},
       "output_type": "pyout",
       "prompt_number": 88,
       "text": [
        "1.0"
       ]
      }
     ],
     "prompt_number": 88
    },
    {
     "cell_type": "code",
     "collapsed": false,
     "input": [],
     "language": "python",
     "metadata": {},
     "outputs": []
    }
   ],
   "metadata": {}
  }
 ]
}